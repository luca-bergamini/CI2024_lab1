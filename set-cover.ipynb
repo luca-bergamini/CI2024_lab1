{
 "cells": [
  {
   "cell_type": "markdown",
   "metadata": {},
   "source": [
    "Copyright **`(c)`** 2024 Giovanni Squillero `<giovanni.squillero@polito.it>`  \n",
    "[`https://github.com/squillero/computational-intelligence`](https://github.com/squillero/computational-intelligence)  \n",
    "Free for personal or classroom use; see [`LICENSE.md`](https://github.com/squillero/computational-intelligence/blob/master/LICENSE.md) for details.  "
   ]
  },
  {
   "cell_type": "markdown",
   "metadata": {},
   "source": [
    "# Set Cover problem\n",
    "\n",
    "See: https://en.wikipedia.org/wiki/Set_cover_problem"
   ]
  },
  {
   "cell_type": "code",
   "execution_count": 1,
   "metadata": {},
   "outputs": [],
   "source": [
    "from random import random, seed\n",
    "from itertools import product\n",
    "import numpy as np\n",
    "\n",
    "from icecream import ic"
   ]
  },
  {
   "cell_type": "markdown",
   "metadata": {},
   "source": [
    "## Reproducible Initialization\n",
    "\n",
    "If you want to get reproducible results, use `rng` (and restart the kernel); for non-reproducible ones, use `np.random`."
   ]
  },
  {
   "cell_type": "code",
   "execution_count": 2,
   "metadata": {},
   "outputs": [],
   "source": [
    "UNIVERSE_SIZE = 100_000\n",
    "NUM_SETS = 10_000\n",
    "DENSITY = 0.2\n",
    "\n",
    "rng = np.random.Generator(np.random.PCG64([UNIVERSE_SIZE, NUM_SETS, int(10_000 * DENSITY)]))"
   ]
  },
  {
   "cell_type": "code",
   "execution_count": 3,
   "metadata": {},
   "outputs": [],
   "source": [
    "# DON'T EDIT THESE LINES!\n",
    "\n",
    "SETS = np.random.random((NUM_SETS, UNIVERSE_SIZE)) < DENSITY\n",
    "for s in range(UNIVERSE_SIZE):\n",
    "    if not np.any(SETS[:, s]):\n",
    "        SETS[np.random.randint(NUM_SETS), s] = True\n",
    "COSTS = np.pow(SETS.sum(axis=1), 1.1)"
   ]
  },
  {
   "cell_type": "markdown",
   "metadata": {},
   "source": [
    "## Helper Functions"
   ]
  },
  {
   "cell_type": "code",
   "execution_count": 4,
   "metadata": {},
   "outputs": [],
   "source": [
    "def valid(solution):\n",
    "    \"\"\"Checks wether solution is valid (ie. covers all universe)\"\"\"\n",
    "    return np.all(np.logical_or.reduce(SETS[solution]))\n",
    "\n",
    "\n",
    "def cost(solution):\n",
    "    \"\"\"Returns the cost of a solution (to be minimized)\"\"\"\n",
    "    return COSTS[solution].sum()"
   ]
  },
  {
   "cell_type": "markdown",
   "metadata": {},
   "source": [
    "## Have Fun!"
   ]
  },
  {
   "cell_type": "code",
   "execution_count": 5,
   "metadata": {},
   "outputs": [
    {
     "data": {
      "text/plain": [
       "(np.True_, np.float64(538441135.3204354))"
      ]
     },
     "execution_count": 5,
     "metadata": {},
     "output_type": "execute_result"
    }
   ],
   "source": [
    "# A dumb solution of \"all\" sets\n",
    "solution = np.full(NUM_SETS, True)\n",
    "valid(solution), cost(solution)"
   ]
  },
  {
   "cell_type": "code",
   "execution_count": 6,
   "metadata": {},
   "outputs": [
    {
     "data": {
      "text/plain": [
       "(np.True_, np.float64(268535316.02232045))"
      ]
     },
     "execution_count": 6,
     "metadata": {},
     "output_type": "execute_result"
    }
   ],
   "source": [
    "# A random solution with random 50% of the sets\n",
    "solution = rng.random(NUM_SETS) < .5\n",
    "valid(solution), cost(solution)"
   ]
  },
  {
   "cell_type": "markdown",
   "metadata": {},
   "source": [
    "## Greedy Solution"
   ]
  },
  {
   "cell_type": "code",
   "execution_count": 7,
   "metadata": {},
   "outputs": [
    {
     "name": "stdout",
     "output_type": "stream",
     "text": [
      "True 1671704.2807142711\n"
     ]
    }
   ],
   "source": [
    "solution = []\n",
    "# covered elements in a set (starting with all elements as uncovered)\n",
    "covered_elements = np.zeros(UNIVERSE_SIZE, dtype=bool)\n",
    "\n",
    "# keep iterating until a valid solution is found\n",
    "while not valid(solution):\n",
    "    # to find the best set to take, we have to take the set with the higher ratio\n",
    "    best_ratio = -1\n",
    "    best_set = None\n",
    "    max_discovered = 0\n",
    "    \n",
    "    for i, set in enumerate(SETS):\n",
    "        # if the set i is already in the solution skip\n",
    "        if i in solution:\n",
    "            continue\n",
    "        # finding the elements that are covered by the set i\n",
    "        new_covered = np.logical_and(set, ~covered_elements)\n",
    "        # number of true elements in the set\n",
    "        num_discovered = np.sum(new_covered)\n",
    "        \n",
    "        if num_discovered >= max_discovered:\n",
    "            # computing the ratio, identifying how much is important to take this set\n",
    "            ratio = num_discovered / COSTS[i]\n",
    "            if ratio > best_ratio:\n",
    "                best_ratio = ratio\n",
    "                best_set = i\n",
    "                max_discovered = num_discovered\n",
    "\n",
    "    solution.append(best_set)\n",
    "    # updating the covered_elements with the new discovered elements by the best set\n",
    "    covered_elements = np.logical_or(covered_elements, SETS[best_set])\n",
    "    \n",
    "    \n",
    "print(valid(solution), cost(solution))"
   ]
  },
  {
   "cell_type": "markdown",
   "metadata": {},
   "source": [
    "## Utility Functions for Hill Climbing"
   ]
  },
  {
   "cell_type": "code",
   "execution_count": 8,
   "metadata": {},
   "outputs": [],
   "source": [
    "# tweak function changing only one element in the solution\n",
    "def single_tweak(solution):\n",
    "    new_solution = solution.copy()\n",
    "    index = rng.integers(0, NUM_SETS)\n",
    "    new_solution[index] = not new_solution[index]\n",
    "    return new_solution\n",
    "\n",
    "# tweak function changing multiple elements in the solution\n",
    "def multi_tweak(solution):\n",
    "    new_solution = solution.copy()\n",
    "    mask = rng.random(NUM_SETS) < .01\n",
    "    new_solution = np.logical_xor(new_solution, mask)\n",
    "    return new_solution\n",
    "\n",
    "# function to evaluate the fitness of a solution\n",
    "def fitness(solution):\n",
    "    return (valid(solution), -cost(solution))"
   ]
  },
  {
   "cell_type": "markdown",
   "metadata": {},
   "source": [
    "## Hill Climbing"
   ]
  },
  {
   "cell_type": "markdown",
   "metadata": {},
   "source": [
    "#### Hill Climbing with single tweak"
   ]
  },
  {
   "cell_type": "code",
   "execution_count": 9,
   "metadata": {},
   "outputs": [
    {
     "name": "stdout",
     "output_type": "stream",
     "text": [
      "True 260755873.29564267\n"
     ]
    }
   ],
   "source": [
    "best_solution = np.full(NUM_SETS, True)\n",
    "num_iters = 100\n",
    "\n",
    "for step in range(num_iters):\n",
    "    solution = rng.random(NUM_SETS) < .5\n",
    "    \n",
    "    while not valid(solution):\n",
    "        solution = single_tweak(solution)\n",
    "    \n",
    "    if cost(solution) < cost(best_solution):\n",
    "        best_solution = solution.copy()\n",
    "        \n",
    "print(valid(best_solution), cost(best_solution))"
   ]
  },
  {
   "cell_type": "markdown",
   "metadata": {},
   "source": [
    "#### Hill Climbing with multiple tweak"
   ]
  },
  {
   "cell_type": "code",
   "execution_count": 10,
   "metadata": {},
   "outputs": [
    {
     "name": "stdout",
     "output_type": "stream",
     "text": [
      "True 264761689.34614763\n"
     ]
    }
   ],
   "source": [
    "best_solution = np.full(NUM_SETS, True)\n",
    "num_iters = 100\n",
    "\n",
    "for step in range(num_iters):\n",
    "    solution = rng.random(NUM_SETS) < .5\n",
    "    \n",
    "    while not valid(solution):\n",
    "        solution = multi_tweak(solution)\n",
    "    \n",
    "    if cost(solution) < cost(best_solution):\n",
    "        best_solution = solution.copy()\n",
    "        \n",
    "print(valid(best_solution), cost(best_solution))"
   ]
  },
  {
   "cell_type": "markdown",
   "metadata": {},
   "source": [
    "#### Conclusion looking the results\n",
    "\n",
    "Analyzing the results, we can conclude that with the greedy algorithm we can obtain better performance, in term of validity and cost of the solution."
   ]
  }
 ],
 "metadata": {
  "kernelspec": {
   "display_name": "Python 3 (ipykernel)",
   "language": "python",
   "name": "python3"
  },
  "language_info": {
   "codemirror_mode": {
    "name": "ipython",
    "version": 3
   },
   "file_extension": ".py",
   "mimetype": "text/x-python",
   "name": "python",
   "nbconvert_exporter": "python",
   "pygments_lexer": "ipython3",
   "version": "3.11.7"
  }
 },
 "nbformat": 4,
 "nbformat_minor": 4
}
